{
 "cells": [
  {
   "cell_type": "markdown",
   "id": "2f039ccd-56c9-46a8-b08c-7a681b4040a6",
   "metadata": {},
   "source": [
    "#### Loading basic libraries"
   ]
  },
  {
   "cell_type": "code",
   "execution_count": 1,
   "id": "b30809eb-205b-473e-bef6-ba7422fce99d",
   "metadata": {},
   "outputs": [],
   "source": [
    "import numpy as np\n",
    "import pandas as pd\n",
    "import matplotlib.pyplot as plt"
   ]
  },
  {
   "cell_type": "code",
   "execution_count": null,
   "id": "56583c48-8dac-4df7-9769-c051dba19317",
   "metadata": {},
   "outputs": [],
   "source": []
  }
 ],
 "metadata": {
  "kernelspec": {
   "display_name": "Python 3 (ipykernel)",
   "language": "python",
   "name": "python3"
  },
  "language_info": {
   "codemirror_mode": {
    "name": "ipython",
    "version": 3
   },
   "file_extension": ".py",
   "mimetype": "text/x-python",
   "name": "python",
   "nbconvert_exporter": "python",
   "pygments_lexer": "ipython3",
   "version": "3.12.3"
  }
 },
 "nbformat": 4,
 "nbformat_minor": 5
}
